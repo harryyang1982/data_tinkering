{
 "cells": [
  {
   "cell_type": "code",
   "execution_count": 1,
   "metadata": {},
   "outputs": [],
   "source": [
    "using Pkg"
   ]
  },
  {
   "cell_type": "code",
   "execution_count": 2,
   "metadata": {},
   "outputs": [
    {
     "name": "stderr",
     "output_type": "stream",
     "text": [
      "\u001b[32m\u001b[1m  Installing\u001b[22m\u001b[39m known registries into `~/.julia`\n",
      "\u001b[32m\u001b[1m    Updating\u001b[22m\u001b[39m registry at `~/.julia/registries/General.toml`\n",
      "\u001b[32m\u001b[1m   Resolving\u001b[22m\u001b[39m package versions...\n",
      "\u001b[32m\u001b[1m   Installed\u001b[22m\u001b[39m TableTraits ───────────────── v1.0.1\n",
      "\u001b[32m\u001b[1m   Installed\u001b[22m\u001b[39m PooledArrays ──────────────── v1.4.1\n",
      "\u001b[32m\u001b[1m   Installed\u001b[22m\u001b[39m IteratorInterfaceExtensions ─ v1.0.0\n",
      "\u001b[32m\u001b[1m   Installed\u001b[22m\u001b[39m Tables ────────────────────── v1.7.0\n",
      "\u001b[32m\u001b[1m   Installed\u001b[22m\u001b[39m DataAPI ───────────────────── v1.9.0\n",
      "\u001b[32m\u001b[1m   Installed\u001b[22m\u001b[39m Formatting ────────────────── v0.4.2\n",
      "\u001b[32m\u001b[1m   Installed\u001b[22m\u001b[39m Crayons ───────────────────── v4.1.1\n",
      "\u001b[32m\u001b[1m   Installed\u001b[22m\u001b[39m InvertedIndices ───────────── v1.1.0\n",
      "\u001b[32m\u001b[1m   Installed\u001b[22m\u001b[39m OrderedCollections ────────── v1.4.1\n",
      "\u001b[32m\u001b[1m   Installed\u001b[22m\u001b[39m Compat ────────────────────── v3.42.0\n",
      "\u001b[32m\u001b[1m   Installed\u001b[22m\u001b[39m Reexport ──────────────────── v1.2.2\n",
      "\u001b[32m\u001b[1m   Installed\u001b[22m\u001b[39m DataValueInterfaces ───────── v1.0.0\n",
      "\u001b[32m\u001b[1m   Installed\u001b[22m\u001b[39m SortingAlgorithms ─────────── v1.0.1\n",
      "\u001b[32m\u001b[1m   Installed\u001b[22m\u001b[39m DataStructures ────────────── v0.18.11\n",
      "\u001b[32m\u001b[1m   Installed\u001b[22m\u001b[39m Missings ──────────────────── v1.0.2\n",
      "\u001b[32m\u001b[1m   Installed\u001b[22m\u001b[39m DataFrames ────────────────── v1.3.2\n",
      "\u001b[32m\u001b[1m   Installed\u001b[22m\u001b[39m PrettyTables ──────────────── v1.3.1\n",
      "\u001b[32m\u001b[1m    Updating\u001b[22m\u001b[39m `~/.julia/environments/v1.7/Project.toml`\n",
      " \u001b[90m [a93c6f00] \u001b[39m\u001b[92m+ DataFrames v1.3.2\u001b[39m\n",
      "\u001b[32m\u001b[1m    Updating\u001b[22m\u001b[39m `~/.julia/environments/v1.7/Manifest.toml`\n",
      " \u001b[90m [34da2185] \u001b[39m\u001b[92m+ Compat v3.42.0\u001b[39m\n",
      " \u001b[90m [a8cc5b0e] \u001b[39m\u001b[92m+ Crayons v4.1.1\u001b[39m\n",
      " \u001b[90m [9a962f9c] \u001b[39m\u001b[92m+ DataAPI v1.9.0\u001b[39m\n",
      " \u001b[90m [a93c6f00] \u001b[39m\u001b[92m+ DataFrames v1.3.2\u001b[39m\n",
      " \u001b[90m [864edb3b] \u001b[39m\u001b[92m+ DataStructures v0.18.11\u001b[39m\n",
      " \u001b[90m [e2d170a0] \u001b[39m\u001b[92m+ DataValueInterfaces v1.0.0\u001b[39m\n",
      " \u001b[90m [59287772] \u001b[39m\u001b[92m+ Formatting v0.4.2\u001b[39m\n",
      " \u001b[90m [41ab1584] \u001b[39m\u001b[92m+ InvertedIndices v1.1.0\u001b[39m\n",
      " \u001b[90m [82899510] \u001b[39m\u001b[92m+ IteratorInterfaceExtensions v1.0.0\u001b[39m\n",
      " \u001b[90m [e1d29d7a] \u001b[39m\u001b[92m+ Missings v1.0.2\u001b[39m\n",
      " \u001b[90m [bac558e1] \u001b[39m\u001b[92m+ OrderedCollections v1.4.1\u001b[39m\n",
      " \u001b[90m [2dfb63ee] \u001b[39m\u001b[92m+ PooledArrays v1.4.1\u001b[39m\n",
      " \u001b[90m [08abe8d2] \u001b[39m\u001b[92m+ PrettyTables v1.3.1\u001b[39m\n",
      " \u001b[90m [189a3867] \u001b[39m\u001b[92m+ Reexport v1.2.2\u001b[39m\n",
      " \u001b[90m [a2af1166] \u001b[39m\u001b[92m+ SortingAlgorithms v1.0.1\u001b[39m\n",
      " \u001b[90m [3783bdb8] \u001b[39m\u001b[92m+ TableTraits v1.0.1\u001b[39m\n",
      " \u001b[90m [bd369af6] \u001b[39m\u001b[92m+ Tables v1.7.0\u001b[39m\n",
      " \u001b[90m [0dad84c5] \u001b[39m\u001b[92m+ ArgTools\u001b[39m\n",
      " \u001b[90m [56f22d72] \u001b[39m\u001b[92m+ Artifacts\u001b[39m\n",
      " \u001b[90m [2a0f44e3] \u001b[39m\u001b[92m+ Base64\u001b[39m\n",
      " \u001b[90m [ade2ca70] \u001b[39m\u001b[92m+ Dates\u001b[39m\n",
      " \u001b[90m [8bb1440f] \u001b[39m\u001b[92m+ DelimitedFiles\u001b[39m\n",
      " \u001b[90m [8ba89e20] \u001b[39m\u001b[92m+ Distributed\u001b[39m\n",
      " \u001b[90m [f43a241f] \u001b[39m\u001b[92m+ Downloads\u001b[39m\n",
      " \u001b[90m [9fa8497b] \u001b[39m\u001b[92m+ Future\u001b[39m\n",
      " \u001b[90m [b77e0a4c] \u001b[39m\u001b[92m+ InteractiveUtils\u001b[39m\n",
      " \u001b[90m [b27032c2] \u001b[39m\u001b[92m+ LibCURL\u001b[39m\n",
      " \u001b[90m [76f85450] \u001b[39m\u001b[92m+ LibGit2\u001b[39m\n",
      " \u001b[90m [8f399da3] \u001b[39m\u001b[92m+ Libdl\u001b[39m\n",
      " \u001b[90m [37e2e46d] \u001b[39m\u001b[92m+ LinearAlgebra\u001b[39m\n",
      " \u001b[90m [56ddb016] \u001b[39m\u001b[92m+ Logging\u001b[39m\n",
      " \u001b[90m [d6f4376e] \u001b[39m\u001b[92m+ Markdown\u001b[39m\n",
      " \u001b[90m [a63ad114] \u001b[39m\u001b[92m+ Mmap\u001b[39m\n",
      " \u001b[90m [ca575930] \u001b[39m\u001b[92m+ NetworkOptions\u001b[39m\n",
      " \u001b[90m [44cfe95a] \u001b[39m\u001b[92m+ Pkg\u001b[39m\n",
      " \u001b[90m [de0858da] \u001b[39m\u001b[92m+ Printf\u001b[39m\n",
      " \u001b[90m [3fa0cd96] \u001b[39m\u001b[92m+ REPL\u001b[39m\n",
      " \u001b[90m [9a3f8284] \u001b[39m\u001b[92m+ Random\u001b[39m\n",
      " \u001b[90m [ea8e919c] \u001b[39m\u001b[92m+ SHA\u001b[39m\n",
      " \u001b[90m [9e88b42a] \u001b[39m\u001b[92m+ Serialization\u001b[39m\n",
      " \u001b[90m [1a1011a3] \u001b[39m\u001b[92m+ SharedArrays\u001b[39m\n",
      " \u001b[90m [6462fe0b] \u001b[39m\u001b[92m+ Sockets\u001b[39m\n",
      " \u001b[90m [2f01184e] \u001b[39m\u001b[92m+ SparseArrays\u001b[39m\n",
      " \u001b[90m [10745b16] \u001b[39m\u001b[92m+ Statistics\u001b[39m\n",
      " \u001b[90m [fa267f1f] \u001b[39m\u001b[92m+ TOML\u001b[39m\n",
      " \u001b[90m [a4e569a6] \u001b[39m\u001b[92m+ Tar\u001b[39m\n",
      " \u001b[90m [8dfed614] \u001b[39m\u001b[92m+ Test\u001b[39m\n",
      " \u001b[90m [cf7118a7] \u001b[39m\u001b[92m+ UUIDs\u001b[39m\n",
      " \u001b[90m [4ec0a83e] \u001b[39m\u001b[92m+ Unicode\u001b[39m\n",
      " \u001b[90m [e66e0078] \u001b[39m\u001b[92m+ CompilerSupportLibraries_jll\u001b[39m\n",
      " \u001b[90m [deac9b47] \u001b[39m\u001b[92m+ LibCURL_jll\u001b[39m\n",
      " \u001b[90m [29816b5a] \u001b[39m\u001b[92m+ LibSSH2_jll\u001b[39m\n",
      " \u001b[90m [c8ffd9c3] \u001b[39m\u001b[92m+ MbedTLS_jll\u001b[39m\n",
      " \u001b[90m [14a3606d] \u001b[39m\u001b[92m+ MozillaCACerts_jll\u001b[39m\n",
      " \u001b[90m [4536629a] \u001b[39m\u001b[92m+ OpenBLAS_jll\u001b[39m\n",
      " \u001b[90m [83775a58] \u001b[39m\u001b[92m+ Zlib_jll\u001b[39m\n",
      " \u001b[90m [8e850b90] \u001b[39m\u001b[92m+ libblastrampoline_jll\u001b[39m\n",
      " \u001b[90m [8e850ede] \u001b[39m\u001b[92m+ nghttp2_jll\u001b[39m\n",
      " \u001b[90m [3f19e933] \u001b[39m\u001b[92m+ p7zip_jll\u001b[39m\n",
      "\u001b[32m\u001b[1mPrecompiling\u001b[22m\u001b[39m project...\n",
      "\u001b[32m  ✓ \u001b[39m\u001b[90mDataValueInterfaces\u001b[39m\n",
      "\u001b[32m  ✓ \u001b[39m\u001b[90mIteratorInterfaceExtensions\u001b[39m\n",
      "\u001b[32m  ✓ \u001b[39m\u001b[90mFormatting\u001b[39m\n",
      "\u001b[32m  ✓ \u001b[39m\u001b[90mDataAPI\u001b[39m\n",
      "\u001b[32m  ✓ \u001b[39m\u001b[90mInvertedIndices\u001b[39m\n",
      "\u001b[32m  ✓ \u001b[39m\u001b[90mCompilerSupportLibraries_jll\u001b[39m\n",
      "\u001b[32m  ✓ \u001b[39m\u001b[90mCompat\u001b[39m\n",
      "\u001b[32m  ✓ \u001b[39m\u001b[90mReexport\u001b[39m\n",
      "\u001b[32m  ✓ \u001b[39m\u001b[90mOrderedCollections\u001b[39m\n",
      "\u001b[32m  ✓ \u001b[39m\u001b[90mMbedTLS_jll\u001b[39m\n",
      "\u001b[32m  ✓ \u001b[39m\u001b[90mZlib_jll\u001b[39m\n",
      "\u001b[32m  ✓ \u001b[39m\u001b[90mTableTraits\u001b[39m\n",
      "\u001b[32m  ✓ \u001b[39m\u001b[90mCrayons\u001b[39m\n",
      "\u001b[32m  ✓ \u001b[39m\u001b[90mPooledArrays\u001b[39m\n",
      "\u001b[32m  ✓ \u001b[39m\u001b[90mMissings\u001b[39m\n",
      "\u001b[32m  ✓ \u001b[39m\u001b[90mOpenBLAS_jll\u001b[39m\n",
      "\u001b[32m  ✓ \u001b[39m\u001b[90mLibSSH2_jll\u001b[39m\n",
      "\u001b[32m  ✓ \u001b[39m\u001b[90mlibblastrampoline_jll\u001b[39m\n",
      "\u001b[32m  ✓ \u001b[39m\u001b[90mTables\u001b[39m\n",
      "\u001b[32m  ✓ \u001b[39m\u001b[90mDataStructures\u001b[39m\n",
      "\u001b[32m  ✓ \u001b[39m\u001b[90mSortingAlgorithms\u001b[39m\n",
      "\u001b[32m  ✓ \u001b[39m\u001b[90mPrettyTables\u001b[39m\n",
      "\u001b[32m  ✓ \u001b[39mDataFrames\n",
      "  23 dependencies successfully precompiled in 23 seconds\n"
     ]
    }
   ],
   "source": [
    "Pkg.add(\"DataFrames\")"
   ]
  },
  {
   "cell_type": "code",
   "execution_count": 4,
   "metadata": {},
   "outputs": [],
   "source": [
    "using DataFrames"
   ]
  },
  {
   "cell_type": "code",
   "execution_count": 5,
   "metadata": {},
   "outputs": [
    {
     "data": {
      "text/html": [
       "<div class=\"data-frame\"><p>3 rows × 3 columns</p><table class=\"data-frame\"><thead><tr><th></th><th>A</th><th>B</th><th>fixed</th></tr><tr><th></th><th title=\"Int64\">Int64</th><th title=\"Int64\">Int64</th><th title=\"Int64\">Int64</th></tr></thead><tbody><tr><th>1</th><td>1</td><td>5</td><td>1</td></tr><tr><th>2</th><td>2</td><td>6</td><td>1</td></tr><tr><th>3</th><td>3</td><td>7</td><td>1</td></tr></tbody></table></div>"
      ],
      "text/latex": [
       "\\begin{tabular}{r|ccc}\n",
       "\t& A & B & fixed\\\\\n",
       "\t\\hline\n",
       "\t& Int64 & Int64 & Int64\\\\\n",
       "\t\\hline\n",
       "\t1 & 1 & 5 & 1 \\\\\n",
       "\t2 & 2 & 6 & 1 \\\\\n",
       "\t3 & 3 & 7 & 1 \\\\\n",
       "\\end{tabular}\n"
      ],
      "text/plain": [
       "\u001b[1m3×3 DataFrame\u001b[0m\n",
       "\u001b[1m Row \u001b[0m│\u001b[1m A     \u001b[0m\u001b[1m B     \u001b[0m\u001b[1m fixed \u001b[0m\n",
       "\u001b[1m     \u001b[0m│\u001b[90m Int64 \u001b[0m\u001b[90m Int64 \u001b[0m\u001b[90m Int64 \u001b[0m\n",
       "─────┼─────────────────────\n",
       "   1 │     1      5      1\n",
       "   2 │     2      6      1\n",
       "   3 │     3      7      1"
      ]
     },
     "metadata": {},
     "output_type": "display_data"
    }
   ],
   "source": [
    "DataFrame(A=1:3, B=5:7, fixed=1)"
   ]
  },
  {
   "cell_type": "code",
   "execution_count": 6,
   "metadata": {},
   "outputs": [
    {
     "data": {
      "text/plain": [
       "Dict{String, Vector} with 2 entries:\n",
       "  \"first name\"   => [\"Rohit\", \"Rahul\", \"Akshat\"]\n",
       "  \"customer age\" => [15, 20, 25]"
      ]
     },
     "metadata": {},
     "output_type": "display_data"
    }
   ],
   "source": [
    "dict = Dict(\"customer age\" => [15, 20, 25],\n",
    "                   \"first name\" => [\"Rohit\", \"Rahul\", \"Akshat\"])"
   ]
  },
  {
   "cell_type": "code",
   "execution_count": 7,
   "metadata": {},
   "outputs": [
    {
     "data": {
      "text/html": [
       "<div class=\"data-frame\"><p>3 rows × 2 columns</p><table class=\"data-frame\"><thead><tr><th></th><th>customer age</th><th>first name</th></tr><tr><th></th><th title=\"Int64\">Int64</th><th title=\"String\">String</th></tr></thead><tbody><tr><th>1</th><td>15</td><td>Rohit</td></tr><tr><th>2</th><td>20</td><td>Rahul</td></tr><tr><th>3</th><td>25</td><td>Akshat</td></tr></tbody></table></div>"
      ],
      "text/latex": [
       "\\begin{tabular}{r|cc}\n",
       "\t& customer age & first name\\\\\n",
       "\t\\hline\n",
       "\t& Int64 & String\\\\\n",
       "\t\\hline\n",
       "\t1 & 15 & Rohit \\\\\n",
       "\t2 & 20 & Rahul \\\\\n",
       "\t3 & 25 & Akshat \\\\\n",
       "\\end{tabular}\n"
      ],
      "text/plain": [
       "\u001b[1m3×2 DataFrame\u001b[0m\n",
       "\u001b[1m Row \u001b[0m│\u001b[1m customer age \u001b[0m\u001b[1m first name \u001b[0m\n",
       "\u001b[1m     \u001b[0m│\u001b[90m Int64        \u001b[0m\u001b[90m String     \u001b[0m\n",
       "─────┼──────────────────────────\n",
       "   1 │           15  Rohit\n",
       "   2 │           20  Rahul\n",
       "   3 │           25  Akshat"
      ]
     },
     "metadata": {},
     "output_type": "display_data"
    }
   ],
   "source": [
    "DataFrame(dict)"
   ]
  },
  {
   "cell_type": "code",
   "execution_count": 8,
   "metadata": {},
   "outputs": [
    {
     "name": "stderr",
     "output_type": "stream",
     "text": [
      "\u001b[32m\u001b[1m   Resolving\u001b[22m\u001b[39m package versions...\n",
      "\u001b[32m\u001b[1m   Installed\u001b[22m\u001b[39m Libiconv_jll ─ v1.16.1+1\n",
      "\u001b[32m\u001b[1m   Installed\u001b[22m\u001b[39m XML2_jll ───── v2.9.12+0\n",
      "\u001b[32m\u001b[1m   Installed\u001b[22m\u001b[39m ZipFile ────── v0.9.4\n",
      "\u001b[32m\u001b[1m   Installed\u001b[22m\u001b[39m EzXML ──────── v1.1.0\n",
      "\u001b[32m\u001b[1m   Installed\u001b[22m\u001b[39m Preferences ── v1.2.5\n",
      "\u001b[32m\u001b[1m   Installed\u001b[22m\u001b[39m XLSX ───────── v0.7.9\n",
      "\u001b[32m\u001b[1m   Installed\u001b[22m\u001b[39m JLLWrappers ── v1.4.1\n",
      "\u001b[32m\u001b[1m    Updating\u001b[22m\u001b[39m `~/.julia/environments/v1.7/Project.toml`\n",
      " \u001b[90m [fdbf4ff8] \u001b[39m\u001b[92m+ XLSX v0.7.9\u001b[39m\n",
      "\u001b[32m\u001b[1m    Updating\u001b[22m\u001b[39m `~/.julia/environments/v1.7/Manifest.toml`\n",
      " \u001b[90m [8f5d6c58] \u001b[39m\u001b[92m+ EzXML v1.1.0\u001b[39m\n",
      " \u001b[90m [692b3bcd] \u001b[39m\u001b[92m+ JLLWrappers v1.4.1\u001b[39m\n",
      " \u001b[90m [21216c6a] \u001b[39m\u001b[92m+ Preferences v1.2.5\u001b[39m\n",
      " \u001b[90m [fdbf4ff8] \u001b[39m\u001b[92m+ XLSX v0.7.9\u001b[39m\n",
      " \u001b[90m [a5390f91] \u001b[39m\u001b[92m+ ZipFile v0.9.4\u001b[39m\n",
      " \u001b[90m [94ce4f54] \u001b[39m\u001b[92m+ Libiconv_jll v1.16.1+1\u001b[39m\n",
      " \u001b[90m [02c8fc9c] \u001b[39m\u001b[92m+ XML2_jll v2.9.12+0\u001b[39m\n",
      "\u001b[32m\u001b[1mPrecompiling\u001b[22m\u001b[39m project...\n",
      "\u001b[32m  ✓ \u001b[39m\u001b[90mPreferences\u001b[39m\n",
      "\u001b[32m  ✓ \u001b[39m\u001b[90mZipFile\u001b[39m\n",
      "\u001b[32m  ✓ \u001b[39m\u001b[90mJLLWrappers\u001b[39m\n",
      "\u001b[32m  ✓ \u001b[39m\u001b[90mLibiconv_jll\u001b[39m\n",
      "\u001b[32m  ✓ \u001b[39m\u001b[90mXML2_jll\u001b[39m\n",
      "\u001b[32m  ✓ \u001b[39m\u001b[90mEzXML\u001b[39m\n",
      "\u001b[32m  ✓ \u001b[39mXLSX\n",
      "  7 dependencies successfully precompiled in 4 seconds (23 already precompiled)\n"
     ]
    }
   ],
   "source": [
    "Pkg.add(\"XLSX\")"
   ]
  },
  {
   "cell_type": "code",
   "execution_count": 9,
   "metadata": {},
   "outputs": [],
   "source": [
    "using XLSX"
   ]
  },
  {
   "cell_type": "code",
   "execution_count": 11,
   "metadata": {},
   "outputs": [
    {
     "data": {
      "text/plain": [
       "XLSXFile(\"양준혁.xlsx\") containing 1 Worksheet\n",
       "            sheetname size          range        \n",
       "-------------------------------------------------\n",
       "               Sheet1 19x29         A1:AC19      \n"
      ]
     },
     "metadata": {},
     "output_type": "display_data"
    }
   ],
   "source": [
    "yang = XLSX.readxlsx(\"양준혁.xlsx\")"
   ]
  },
  {
   "cell_type": "code",
   "execution_count": 12,
   "metadata": {},
   "outputs": [
    {
     "data": {
      "text/plain": [
       "XLSXFile(\"양준혁.xlsx\") containing 1 Worksheet\n",
       "            sheetname size          range        \n",
       "-------------------------------------------------\n",
       "               Sheet1 19x29         A1:AC19      \n"
      ]
     },
     "metadata": {},
     "output_type": "display_data"
    }
   ],
   "source": [
    "yang"
   ]
  },
  {
   "cell_type": "code",
   "execution_count": 14,
   "metadata": {},
   "outputs": [
    {
     "data": {
      "text/html": [
       "<div class=\"data-frame\"><p>18 rows × 28 columns (omitted printing of 14 columns)</p><table class=\"data-frame\"><thead><tr><th></th><th>연도</th><th>팀</th><th>나이</th><th>P</th><th>G</th><th>타석</th><th>타수</th><th>득점</th><th>안타</th><th>2루타</th><th>3루타</th><th>홈런</th><th>루타</th><th>타점</th></tr><tr><th></th><th title=\"Any\">Any</th><th title=\"Any\">Any</th><th title=\"Any\">Any</th><th title=\"Any\">Any</th><th title=\"Any\">Any</th><th title=\"Any\">Any</th><th title=\"Any\">Any</th><th title=\"Any\">Any</th><th title=\"Any\">Any</th><th title=\"Any\">Any</th><th title=\"Any\">Any</th><th title=\"Any\">Any</th><th title=\"Any\">Any</th><th title=\"Any\">Any</th></tr></thead><tbody><tr><th>1</th><td>1993</td><td>삼성</td><td>24</td><td>1B</td><td>106</td><td>456</td><td>381</td><td>82</td><td>130</td><td>27</td><td>1</td><td>23</td><td>228</td><td>90</td></tr><tr><th>2</th><td>1994</td><td>삼성</td><td>25</td><td>DH</td><td>123</td><td>496</td><td>427</td><td>62</td><td>128</td><td>21</td><td>1</td><td>19</td><td>208</td><td>87</td></tr><tr><th>3</th><td>1995</td><td>삼성</td><td>26</td><td>LF</td><td>125</td><td>527</td><td>438</td><td>81</td><td>137</td><td>34</td><td>1</td><td>20</td><td>233</td><td>84</td></tr><tr><th>4</th><td>1996</td><td>삼성</td><td>27</td><td>RF</td><td>126</td><td>530</td><td>436</td><td>89</td><td>151</td><td>33</td><td>2</td><td>28</td><td>272</td><td>87</td></tr><tr><th>5</th><td>1997</td><td>삼성</td><td>28</td><td>RF</td><td>126</td><td>561</td><td>442</td><td>94</td><td>145</td><td>32</td><td>5</td><td>30</td><td>277</td><td>98</td></tr><tr><th>6</th><td>1998</td><td>삼성</td><td>29</td><td>DH</td><td>126</td><td>552</td><td>456</td><td>80</td><td>156</td><td>30</td><td>1</td><td>27</td><td>269</td><td>89</td></tr><tr><th>7</th><td>1999</td><td>해태</td><td>30</td><td>DH</td><td>131</td><td>588</td><td>496</td><td>96</td><td>160</td><td>23</td><td>1</td><td>32</td><td>281</td><td>105</td></tr><tr><th>8</th><td>2000</td><td>LG</td><td>31</td><td>DH</td><td>117</td><td>514</td><td>432</td><td>79</td><td>135</td><td>30</td><td>2</td><td>15</td><td>214</td><td>92</td></tr><tr><th>9</th><td>2001</td><td>LG</td><td>32</td><td>DH</td><td>124</td><td>531</td><td>439</td><td>79</td><td>156</td><td>20</td><td>3</td><td>14</td><td>224</td><td>92</td></tr><tr><th>10</th><td>2002</td><td>삼성</td><td>33</td><td>RF</td><td>132</td><td>437</td><td>391</td><td>60</td><td>108</td><td>23</td><td>2</td><td>14</td><td>177</td><td>50</td></tr><tr><th>11</th><td>2003</td><td>삼성</td><td>34</td><td>LF</td><td>133</td><td>551</td><td>490</td><td>90</td><td>161</td><td>37</td><td>2</td><td>33</td><td>301</td><td>92</td></tr><tr><th>12</th><td>2004</td><td>삼성</td><td>35</td><td>1B</td><td>133</td><td>584</td><td>479</td><td>95</td><td>151</td><td>30</td><td>0</td><td>28</td><td>265</td><td>103</td></tr><tr><th>13</th><td>2005</td><td>삼성</td><td>36</td><td>DH</td><td>124</td><td>463</td><td>394</td><td>61</td><td>103</td><td>15</td><td>1</td><td>13</td><td>159</td><td>50</td></tr><tr><th>14</th><td>2006</td><td>삼성</td><td>37</td><td>DH</td><td>126</td><td>533</td><td>413</td><td>63</td><td>125</td><td>31</td><td>1</td><td>13</td><td>197</td><td>81</td></tr><tr><th>15</th><td>2007</td><td>삼성</td><td>38</td><td>DH</td><td>123</td><td>544</td><td>442</td><td>78</td><td>149</td><td>34</td><td>0</td><td>22</td><td>249</td><td>72</td></tr><tr><th>16</th><td>2008</td><td>삼성</td><td>39</td><td>DH</td><td>114</td><td>443</td><td>385</td><td>49</td><td>107</td><td>16</td><td>2</td><td>8</td><td>151</td><td>49</td></tr><tr><th>17</th><td>2009</td><td>삼성</td><td>40</td><td>DH</td><td>82</td><td>322</td><td>249</td><td>51</td><td>82</td><td>16</td><td>0</td><td>11</td><td>131</td><td>48</td></tr><tr><th>18</th><td>2010</td><td>삼성</td><td>41</td><td>DH</td><td>64</td><td>175</td><td>142</td><td>10</td><td>34</td><td>6</td><td>0</td><td>1</td><td>43</td><td>20</td></tr></tbody></table></div>"
      ],
      "text/latex": [
       "\\begin{tabular}{r|ccccccccccccccc}\n",
       "\t& 연도 & 팀 & 나이 & P & G & 타석 & 타수 & 득점 & 안타 & 2루타 & 3루타 & 홈런 & 루타 & 타점 & \\\\\n",
       "\t\\hline\n",
       "\t& Any & Any & Any & Any & Any & Any & Any & Any & Any & Any & Any & Any & Any & Any & \\\\\n",
       "\t\\hline\n",
       "\t1 & 1993 & 삼성 & 24 & 1B & 106 & 456 & 381 & 82 & 130 & 27 & 1 & 23 & 228 & 90 & $\\dots$ \\\\\n",
       "\t2 & 1994 & 삼성 & 25 & DH & 123 & 496 & 427 & 62 & 128 & 21 & 1 & 19 & 208 & 87 & $\\dots$ \\\\\n",
       "\t3 & 1995 & 삼성 & 26 & LF & 125 & 527 & 438 & 81 & 137 & 34 & 1 & 20 & 233 & 84 & $\\dots$ \\\\\n",
       "\t4 & 1996 & 삼성 & 27 & RF & 126 & 530 & 436 & 89 & 151 & 33 & 2 & 28 & 272 & 87 & $\\dots$ \\\\\n",
       "\t5 & 1997 & 삼성 & 28 & RF & 126 & 561 & 442 & 94 & 145 & 32 & 5 & 30 & 277 & 98 & $\\dots$ \\\\\n",
       "\t6 & 1998 & 삼성 & 29 & DH & 126 & 552 & 456 & 80 & 156 & 30 & 1 & 27 & 269 & 89 & $\\dots$ \\\\\n",
       "\t7 & 1999 & 해태 & 30 & DH & 131 & 588 & 496 & 96 & 160 & 23 & 1 & 32 & 281 & 105 & $\\dots$ \\\\\n",
       "\t8 & 2000 & LG & 31 & DH & 117 & 514 & 432 & 79 & 135 & 30 & 2 & 15 & 214 & 92 & $\\dots$ \\\\\n",
       "\t9 & 2001 & LG & 32 & DH & 124 & 531 & 439 & 79 & 156 & 20 & 3 & 14 & 224 & 92 & $\\dots$ \\\\\n",
       "\t10 & 2002 & 삼성 & 33 & RF & 132 & 437 & 391 & 60 & 108 & 23 & 2 & 14 & 177 & 50 & $\\dots$ \\\\\n",
       "\t11 & 2003 & 삼성 & 34 & LF & 133 & 551 & 490 & 90 & 161 & 37 & 2 & 33 & 301 & 92 & $\\dots$ \\\\\n",
       "\t12 & 2004 & 삼성 & 35 & 1B & 133 & 584 & 479 & 95 & 151 & 30 & 0 & 28 & 265 & 103 & $\\dots$ \\\\\n",
       "\t13 & 2005 & 삼성 & 36 & DH & 124 & 463 & 394 & 61 & 103 & 15 & 1 & 13 & 159 & 50 & $\\dots$ \\\\\n",
       "\t14 & 2006 & 삼성 & 37 & DH & 126 & 533 & 413 & 63 & 125 & 31 & 1 & 13 & 197 & 81 & $\\dots$ \\\\\n",
       "\t15 & 2007 & 삼성 & 38 & DH & 123 & 544 & 442 & 78 & 149 & 34 & 0 & 22 & 249 & 72 & $\\dots$ \\\\\n",
       "\t16 & 2008 & 삼성 & 39 & DH & 114 & 443 & 385 & 49 & 107 & 16 & 2 & 8 & 151 & 49 & $\\dots$ \\\\\n",
       "\t17 & 2009 & 삼성 & 40 & DH & 82 & 322 & 249 & 51 & 82 & 16 & 0 & 11 & 131 & 48 & $\\dots$ \\\\\n",
       "\t18 & 2010 & 삼성 & 41 & DH & 64 & 175 & 142 & 10 & 34 & 6 & 0 & 1 & 43 & 20 & $\\dots$ \\\\\n",
       "\\end{tabular}\n"
      ],
      "text/plain": [
       "\u001b[1m18×28 DataFrame\u001b[0m\n",
       "\u001b[1m Row \u001b[0m│\u001b[1m 연도 \u001b[0m\u001b[1m 팀   \u001b[0m\u001b[1m 나이 \u001b[0m\u001b[1m P   \u001b[0m\u001b[1m G   \u001b[0m\u001b[1m 타석 \u001b[0m\u001b[1m 타수 \u001b[0m\u001b[1m 득점 \u001b[0m\u001b[1m 안타 \u001b[0m\u001b[1m 2루타 \u001b[0m\u001b[1m 3루타 \u001b[0m\u001b[1m 홈런 \u001b[0m\u001b[1m\u001b[0m ⋯\n",
       "\u001b[1m     \u001b[0m│\u001b[90m Any  \u001b[0m\u001b[90m Any  \u001b[0m\u001b[90m Any  \u001b[0m\u001b[90m Any \u001b[0m\u001b[90m Any \u001b[0m\u001b[90m Any  \u001b[0m\u001b[90m Any  \u001b[0m\u001b[90m Any  \u001b[0m\u001b[90m Any  \u001b[0m\u001b[90m Any   \u001b[0m\u001b[90m Any   \u001b[0m\u001b[90m Any  \u001b[0m\u001b[90m\u001b[0m ⋯\n",
       "─────┼──────────────────────────────────────────────────────────────────────────\n",
       "   1 │ 1993  삼성  24    1B   106  456   381   82    130   27     1      23    ⋯\n",
       "   2 │ 1994  삼성  25    DH   123  496   427   62    128   21     1      19\n",
       "   3 │ 1995  삼성  26    LF   125  527   438   81    137   34     1      20\n",
       "   4 │ 1996  삼성  27    RF   126  530   436   89    151   33     2      28\n",
       "   5 │ 1997  삼성  28    RF   126  561   442   94    145   32     5      30    ⋯\n",
       "   6 │ 1998  삼성  29    DH   126  552   456   80    156   30     1      27\n",
       "   7 │ 1999  해태  30    DH   131  588   496   96    160   23     1      32\n",
       "   8 │ 2000  LG    31    DH   117  514   432   79    135   30     2      15\n",
       "  ⋮  │  ⋮     ⋮     ⋮     ⋮    ⋮    ⋮     ⋮     ⋮     ⋮      ⋮      ⋮     ⋮    ⋱\n",
       "  12 │ 2004  삼성  35    1B   133  584   479   95    151   30     0      28    ⋯\n",
       "  13 │ 2005  삼성  36    DH   124  463   394   61    103   15     1      13\n",
       "  14 │ 2006  삼성  37    DH   126  533   413   63    125   31     1      13\n",
       "  15 │ 2007  삼성  38    DH   123  544   442   78    149   34     0      22\n",
       "  16 │ 2008  삼성  39    DH   114  443   385   49    107   16     2      8     ⋯\n",
       "  17 │ 2009  삼성  40    DH   82   322   249   51    82    16     0      11\n",
       "  18 │ 2010  삼성  41    DH   64   175   142   10    34    6      0      1\n",
       "\u001b[36m                                                   16 columns and 3 rows omitted\u001b[0m"
      ]
     },
     "metadata": {},
     "output_type": "display_data"
    }
   ],
   "source": [
    "yang = DataFrame(XLSX.readtable(\"양준혁.xlsx\", \"Sheet1\")...)"
   ]
  },
  {
   "cell_type": "code",
   "execution_count": null,
   "metadata": {},
   "outputs": [],
   "source": []
  }
 ],
 "metadata": {
  "kernelspec": {
   "display_name": "Julia 1.7.2",
   "language": "julia",
   "name": "julia-1.7"
  },
  "language_info": {
   "file_extension": ".jl",
   "mimetype": "application/julia",
   "name": "julia",
   "version": "1.7.2"
  },
  "orig_nbformat": 4
 },
 "nbformat": 4,
 "nbformat_minor": 2
}
