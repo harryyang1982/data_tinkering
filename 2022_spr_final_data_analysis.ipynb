{
 "cells": [
  {
   "cell_type": "markdown",
   "metadata": {},
   "source": [
    "### 2022년 1학기 데이터분석II 기말고사"
   ]
  },
  {
   "cell_type": "markdown",
   "metadata": {},
   "source": [
    "한 학기 파이썬과 데이터분석 공부하느라 고생이 많았습니다. 공부 / 연구 / 실무 어디에 쓰든 활용이 가능한 상태를 만든다면 큰 도움이 되리라 생각합니다.\n",
    "문제는 단답식 5점, 분석형 10점, 보너스 10점입니다. (기준 점수 15점)"
   ]
  },
  {
   "cell_type": "markdown",
   "metadata": {},
   "source": [
    "### 준비"
   ]
  },
  {
   "cell_type": "markdown",
   "metadata": {},
   "source": [
    "아래와 같이 코드를 준비하세요.\n",
    "* pydataset 패키지를 설치하세요. \n",
    "- 창에서 실행할 경우 !pip install pydataset\n",
    "- 아닐 경우 command 창에서 pip install pydataset "
   ]
  },
  {
   "cell_type": "code",
   "execution_count": 1,
   "metadata": {},
   "outputs": [],
   "source": [
    "import pandas as pd\n",
    "import numpy as np\n",
    "import matplotlib.pyplot as plt\n",
    "import seaborn as sns\n",
    "from pydataset import data"
   ]
  },
  {
   "cell_type": "markdown",
   "metadata": {},
   "source": [
    "### 단답식 (총 5점)"
   ]
  },
  {
   "cell_type": "markdown",
   "metadata": {},
   "source": [
    "1. matplotlib 패키지의 plt 명령어로 그래프를 그릴 때 x축과 y축의 이름을 추가하기 위한 방법은? (1점)\n",
    "2. 한 화면에 여러개의 그래프를 표현하기 위헤 객체를 생성하는 방법을 간단하게 써보세요. (1점)\n",
    "3. mpg 데이터의 class 변수에 따라 cty의 히스토그램이 어떻게 달라지는 지 화면을 그리드로 분할하여 확인하는 방법을 간단하게 써보세요. (1점)\n",
    "4. 데이터셋의 모든 변수들을 짝지어 그래프로 그리는 seaborn의 명령어는? (1점)\n",
    "5. 값이 누락된(결측인) 변수를 모두 지우는 명령어는? (1점)"
   ]
  },
  {
   "cell_type": "markdown",
   "metadata": {},
   "source": [
    "### 분석형 (총 10점)"
   ]
  },
  {
   "cell_type": "markdown",
   "metadata": {},
   "source": [
    "#### 그래프 연습 (총 4점)"
   ]
  },
  {
   "cell_type": "code",
   "execution_count": 2,
   "metadata": {},
   "outputs": [],
   "source": [
    "mpg = data('mpg')\n",
    "mtcars = data('mtcars')\n",
    "economics = data('economics')\n",
    "diamonds = data('diamonds')\n",
    "apt = pd.read_excel(\"apt_exam.xlsx\")"
   ]
  },
  {
   "cell_type": "markdown",
   "metadata": {},
   "source": [
    "1. mpg 데이터의 displ 변수와 cty 변수를 활용하여 산점도 그래프를 그리세요. (0.5점)\n",
    "2. mpg 데이터의 category별 cty 변수의 박스플롯을 그리세요. (0.5점)\n",
    "3. mtcars 모든 변수의 짝을 지어 관계를 보여주는 그래프를 그려보세요. (0.5점)\n",
    "4. economics 데이터를 활용해서 시간에 따른 저축률(psavert) 변수와 실업률(unempmed) 변수를 시계열 그래프로 한 화면에 그려보세요. (1.5점)\n",
    "5. diamonds 데이터의 cut에 따른 price의 값을 막대 그래프로 그리되, 여기서 color변수를 기준으로 분할하여 dodge 방식으로 그려보세요. (1점)"
   ]
  },
  {
   "cell_type": "markdown",
   "metadata": {},
   "source": [
    "#### 분석형 문제 1 : mpg (3점)"
   ]
  },
  {
   "cell_type": "markdown",
   "metadata": {},
   "source": [
    "1. class 변수의 이름을 category로 바꾸세요. (0.5점)\n",
    "2. hwy변수를 30 이상은 \"high\", 25 이상은 \"middle\", 20 이하는 \"low\"로 분할해서 fuel_grade 변수로 만드세요. (np.where 활용) (0.5점)\n",
    "3. category에 따른 최고 시내연비(cty)를 구해서, 내림차순으로 정렬해 보세요. (0.5점)\n",
    "4. 현대와 도요타 자동차만 잘라서 두 회사의 category별 중위 고속도로 연비(hwy)를 구해서 막대 그래프로 표현해 보세요. (1.5점)"
   ]
  },
  {
   "cell_type": "markdown",
   "metadata": {},
   "source": [
    "#### 분석형 문제 2: apt (3점)"
   ]
  },
  {
   "cell_type": "markdown",
   "metadata": {},
   "source": [
    "1. 아파트 전용면적을 편의를 위해서 '전용면적(㎡)'을 '전용면적'으로 바꿉니다. 그리고 '전용평' 변수를 만듭니다. (전용평 = 전용면적 / 3.33) (0.5점)\n",
    "2. 전용평 25평~35평만 추려서 apt_middle에 저장한 후, 계약년월에 따른 평균 거래가격을 시계열 그래프로 그립니다. (1점)\n",
    "3. 평형을 ['전용50평 이상', '전용40평 이상', '전용 30평 이상', '전용 20평 이상', '전용 20평 미만']의 5개로 나눠 '아파트_평형_등급' 변수에 저장합니다. 이후 단지별 평형별 최고 가격을 구하고, 막대 그래프로 표현하세요. (1.5점)"
   ]
  },
  {
   "cell_type": "markdown",
   "metadata": {},
   "source": [
    "### 보너스 문제: 10점\n",
    "\n"
   ]
  },
  {
   "cell_type": "markdown",
   "metadata": {},
   "source": [
    "1. apt 데이터의 계약년월과 계약일 변수를 합쳐서 date 변수를 만든 후, 단지 중 '홍제한양' 아파트와 '홍제현대' 아파트 두 개의 일자별 평균 가격 변화를 표현하세요. (4점)\n",
    "2. diamonds 데이터의 모든 변수 간의 관계를 그래프로 출력하고, 그 중 price와 가장 관련이 커 보이는 변수를 찾아 다시 두 연속형 변수의 관계를 그래프로 출력하세요. 두 변수의 관계에 영향을 끼칠 것 같은 범주형 변수 하나를 채택해 같은 그래프의 색깔로 표현하세요. (3점)\n",
    "3. midwest 데이터를 data 명령어로 추출해 저장하세요. 그 뒤 popasian 변수를 미국의 전체 인구 중 비율로 (asia_pct) 저장한 후, 주별(state)로 가장 아시안이 많은 주를 내림차순으로 정렬하고 그래프로 표현하세요. (3점)"
   ]
  },
  {
   "cell_type": "markdown",
   "metadata": {},
   "source": []
  }
 ],
 "metadata": {
  "kernelspec": {
   "display_name": "Python 3.9.12 ('base')",
   "language": "python",
   "name": "python3"
  },
  "language_info": {
   "codemirror_mode": {
    "name": "ipython",
    "version": 3
   },
   "file_extension": ".py",
   "mimetype": "text/x-python",
   "name": "python",
   "nbconvert_exporter": "python",
   "pygments_lexer": "ipython3",
   "version": "3.9.12"
  },
  "orig_nbformat": 4,
  "vscode": {
   "interpreter": {
    "hash": "5f2dc2c05f9d09bbf8d8b9882d1010be2db21d3925608a6143bf35df14041d06"
   }
  }
 },
 "nbformat": 4,
 "nbformat_minor": 2
}
