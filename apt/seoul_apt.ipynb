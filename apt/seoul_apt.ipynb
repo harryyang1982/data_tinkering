{
 "cells": [
  {
   "cell_type": "code",
   "execution_count": 1,
   "metadata": {},
   "outputs": [],
   "source": [
    "import pandas as pd\n",
    "import numpy as np\n",
    "import requests\n",
    "import datetime"
   ]
  },
  {
   "cell_type": "code",
   "execution_count": 10,
   "metadata": {},
   "outputs": [
    {
     "name": "stdout",
     "output_type": "stream",
     "text": [
      "<Response [200]>\n"
     ]
    }
   ],
   "source": [
    "url =\"http://openapi.molit.go.kr:8081/OpenAPI_ToolInstallPackage/service/rest/RTMSOBJSvc/getRTMSDataSvcAptTrade?\"\n",
    "service_key = \"zMW9b9LC3pNotbnpMGVR3ojx8p3kTvCznY/P9VOehNp7UaoOzwhN5/MT01Br4NNS/AgaSPLOogVHKLzoGdAttg==\"\n",
    "base_date = \"202001\" \n",
    "gu_code = '11215' ## 법정동 코드 5자리라면, 구 단위로 데이터를 확보하는 것. 11215 = 광진구\n",
    "\n",
    "payload = \"LAWD_CD=\" + gu_code + \"&\" + \\\n",
    "          \"DEAL_YMD=\" + base_date + \"&\" + \\\n",
    "          \"serviceKey=\" + service_key + \"&\" \n",
    "          \n",
    "res = requests.get(url + payload)\n",
    "print(res)"
   ]
  },
  {
   "cell_type": "code",
   "execution_count": 12,
   "metadata": {},
   "outputs": [
    {
     "ename": "AttributeError",
     "evalue": "'NoneType' object has no attribute 'find'",
     "output_type": "error",
     "traceback": [
      "\u001b[0;31m---------------------------------------------------------------------------\u001b[0m",
      "\u001b[0;31mAttributeError\u001b[0m                            Traceback (most recent call last)",
      "\u001b[1;32m/Users/seunghoonyang/Documents/python/data_tinkering/apt/seoul_apt.ipynb Cell 4'\u001b[0m in \u001b[0;36m<cell line: 17>\u001b[0;34m()\u001b[0m\n\u001b[1;32m     <a href='vscode-notebook-cell:/Users/seunghoonyang/Documents/python/data_tinkering/apt/seoul_apt.ipynb#ch0000003?line=13'>14</a>\u001b[0m         item_list\u001b[39m.\u001b[39mappend(data)  \n\u001b[1;32m     <a href='vscode-notebook-cell:/Users/seunghoonyang/Documents/python/data_tinkering/apt/seoul_apt.ipynb#ch0000003?line=14'>15</a>\u001b[0m     \u001b[39mreturn\u001b[39;00m item_list\n\u001b[0;32m---> <a href='vscode-notebook-cell:/Users/seunghoonyang/Documents/python/data_tinkering/apt/seoul_apt.ipynb#ch0000003?line=16'>17</a>\u001b[0m items_list \u001b[39m=\u001b[39m get_items(res)\n\u001b[1;32m     <a href='vscode-notebook-cell:/Users/seunghoonyang/Documents/python/data_tinkering/apt/seoul_apt.ipynb#ch0000003?line=17'>18</a>\u001b[0m items \u001b[39m=\u001b[39m pd\u001b[39m.\u001b[39mDataFrame(items_list) \n\u001b[1;32m     <a href='vscode-notebook-cell:/Users/seunghoonyang/Documents/python/data_tinkering/apt/seoul_apt.ipynb#ch0000003?line=18'>19</a>\u001b[0m items\u001b[39m.\u001b[39mhead()\n",
      "\u001b[1;32m/Users/seunghoonyang/Documents/python/data_tinkering/apt/seoul_apt.ipynb Cell 4'\u001b[0m in \u001b[0;36mget_items\u001b[0;34m(response)\u001b[0m\n\u001b[1;32m      <a href='vscode-notebook-cell:/Users/seunghoonyang/Documents/python/data_tinkering/apt/seoul_apt.ipynb#ch0000003?line=3'>4</a>\u001b[0m root \u001b[39m=\u001b[39m ET\u001b[39m.\u001b[39mfromstring(response\u001b[39m.\u001b[39mcontent\u001b[39m.\u001b[39mdecode(\u001b[39m'\u001b[39m\u001b[39mutf-8\u001b[39m\u001b[39m'\u001b[39m))\n\u001b[1;32m      <a href='vscode-notebook-cell:/Users/seunghoonyang/Documents/python/data_tinkering/apt/seoul_apt.ipynb#ch0000003?line=4'>5</a>\u001b[0m item_list \u001b[39m=\u001b[39m []\n\u001b[0;32m----> <a href='vscode-notebook-cell:/Users/seunghoonyang/Documents/python/data_tinkering/apt/seoul_apt.ipynb#ch0000003?line=5'>6</a>\u001b[0m \u001b[39mfor\u001b[39;00m child \u001b[39min\u001b[39;00m root\u001b[39m.\u001b[39;49mfind(\u001b[39m'\u001b[39;49m\u001b[39mbody\u001b[39;49m\u001b[39m'\u001b[39;49m)\u001b[39m.\u001b[39;49mfind(\u001b[39m'\u001b[39m\u001b[39mitems\u001b[39m\u001b[39m'\u001b[39m):\n\u001b[1;32m      <a href='vscode-notebook-cell:/Users/seunghoonyang/Documents/python/data_tinkering/apt/seoul_apt.ipynb#ch0000003?line=6'>7</a>\u001b[0m     elements \u001b[39m=\u001b[39m child\u001b[39m.\u001b[39mfindall(\u001b[39m'\u001b[39m\u001b[39m*\u001b[39m\u001b[39m'\u001b[39m)\n\u001b[1;32m      <a href='vscode-notebook-cell:/Users/seunghoonyang/Documents/python/data_tinkering/apt/seoul_apt.ipynb#ch0000003?line=7'>8</a>\u001b[0m     data \u001b[39m=\u001b[39m {}\n",
      "\u001b[0;31mAttributeError\u001b[0m: 'NoneType' object has no attribute 'find'"
     ]
    }
   ],
   "source": [
    "import xml.etree.ElementTree as ET\n",
    "\n",
    "def get_items(response):\n",
    "    root = ET.fromstring(response.content.decode('utf-8'))\n",
    "    item_list = []\n",
    "    for child in root.find('body').find('items'):\n",
    "        elements = child.findall('*')\n",
    "        data = {}\n",
    "        for element in elements:\n",
    "            tag = element.tag.strip()\n",
    "            text = element.text.strip()\n",
    "            # print tag, text\n",
    "            data[tag] = text\n",
    "        item_list.append(data)  \n",
    "    return item_list\n",
    "    \n",
    "items_list = get_items(res)\n",
    "items = pd.DataFrame(items_list) \n",
    "items.head()"
   ]
  },
  {
   "cell_type": "code",
   "execution_count": null,
   "metadata": {},
   "outputs": [],
   "source": []
  }
 ],
 "metadata": {
  "interpreter": {
   "hash": "5f2dc2c05f9d09bbf8d8b9882d1010be2db21d3925608a6143bf35df14041d06"
  },
  "kernelspec": {
   "display_name": "Python 3.9.12 ('base')",
   "language": "python",
   "name": "python3"
  },
  "language_info": {
   "codemirror_mode": {
    "name": "ipython",
    "version": 3
   },
   "file_extension": ".py",
   "mimetype": "text/x-python",
   "name": "python",
   "nbconvert_exporter": "python",
   "pygments_lexer": "ipython3",
   "version": "3.9.12"
  },
  "orig_nbformat": 4
 },
 "nbformat": 4,
 "nbformat_minor": 2
}
