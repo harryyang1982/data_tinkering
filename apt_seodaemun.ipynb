{
 "cells": [
  {
   "cell_type": "code",
   "execution_count": 108,
   "metadata": {},
   "outputs": [],
   "source": [
    "import pandas as pd\n",
    "import numpy as np\n",
    "import seaborn as sns\n",
    "import matplotlib.pyplot as plt\n",
    "from matplotlib import rc\n",
    "rc('font', family='AppleGothic')\n",
    "\n",
    "plt.rcParams['axes.unicode_minus'] = False"
   ]
  },
  {
   "cell_type": "code",
   "execution_count": 35,
   "metadata": {},
   "outputs": [],
   "source": [
    "df = list()\n",
    "apt = pd.DataFrame()\n",
    "for i in range(2005, 2022):\n",
    "    df.append(pd.read_excel(\"apt\"+str(i)+\".xlsx\", skiprows=16))\n",
    "    apt=pd.concat([apt, df[i-2005]], ignore_index=True)"
   ]
  },
  {
   "cell_type": "code",
   "execution_count": 64,
   "metadata": {},
   "outputs": [
    {
     "name": "stdout",
     "output_type": "stream",
     "text": [
      "<class 'pandas.core.frame.DataFrame'>\n",
      "RangeIndex: 35426 entries, 0 to 35425\n",
      "Data columns (total 15 columns):\n",
      " #   Column    Non-Null Count  Dtype  \n",
      "---  ------    --------------  -----  \n",
      " 0   시군구       35426 non-null  object \n",
      " 1   번지        35426 non-null  object \n",
      " 2   본번        35426 non-null  int64  \n",
      " 3   부번        35426 non-null  int64  \n",
      " 4   단지명       35426 non-null  object \n",
      " 5   전용면적(㎡)   35426 non-null  float64\n",
      " 6   계약년월      35426 non-null  int64  \n",
      " 7   계약일       35426 non-null  int64  \n",
      " 8   거래금액(만원)  35426 non-null  object \n",
      " 9   층         35426 non-null  int64  \n",
      " 10  건축년도      35426 non-null  int64  \n",
      " 11  도로명       35426 non-null  object \n",
      " 12  해제사유발생일   27 non-null     float64\n",
      " 13  거래유형      35426 non-null  object \n",
      " 14  중개사소재지    35426 non-null  object \n",
      "dtypes: float64(2), int64(6), object(7)\n",
      "memory usage: 4.1+ MB\n"
     ]
    }
   ],
   "source": [
    "apt.info()"
   ]
  },
  {
   "cell_type": "code",
   "execution_count": 68,
   "metadata": {},
   "outputs": [],
   "source": [
    "apt['거래금액']=apt['거래금액(만원)'].str.replace(',', '').astype(float)"
   ]
  },
  {
   "cell_type": "code",
   "execution_count": 89,
   "metadata": {},
   "outputs": [],
   "source": [
    "summ = apt.groupby(['계약년월','단지명', '전용면적(㎡)'], as_index=False).mean()"
   ]
  },
  {
   "cell_type": "code",
   "execution_count": 107,
   "metadata": {},
   "outputs": [
    {
     "ename": "NameError",
     "evalue": "name 'rc' is not defined",
     "output_type": "error",
     "traceback": [
      "\u001b[0;31m---------------------------------------------------------------------------\u001b[0m",
      "\u001b[0;31mNameError\u001b[0m                                 Traceback (most recent call last)",
      "\u001b[1;32m/Users/seunghoonyang/Documents/python/data_tinkering/apt_seodaemun.ipynb Cell 6'\u001b[0m in \u001b[0;36m<cell line: 2>\u001b[0;34m()\u001b[0m\n\u001b[1;32m      <a href='vscode-notebook-cell:/Users/seunghoonyang/Documents/python/data_tinkering/apt_seodaemun.ipynb#ch0000008?line=0'>1</a>\u001b[0m hongje \u001b[39m=\u001b[39m summ[summ\u001b[39m.\u001b[39m단지명\u001b[39m==\u001b[39m\u001b[39m\"\u001b[39m\u001b[39m홍제한양\u001b[39m\u001b[39m\"\u001b[39m]\n\u001b[0;32m----> <a href='vscode-notebook-cell:/Users/seunghoonyang/Documents/python/data_tinkering/apt_seodaemun.ipynb#ch0000008?line=1'>2</a>\u001b[0m rc(\u001b[39m'\u001b[39m\u001b[39mfont\u001b[39m\u001b[39m'\u001b[39m, family\u001b[39m=\u001b[39m\u001b[39m'\u001b[39m\u001b[39mAppleGothic\u001b[39m\u001b[39m'\u001b[39m)\n\u001b[1;32m      <a href='vscode-notebook-cell:/Users/seunghoonyang/Documents/python/data_tinkering/apt_seodaemun.ipynb#ch0000008?line=3'>4</a>\u001b[0m plt\u001b[39m.\u001b[39mrcParams[\u001b[39m'\u001b[39m\u001b[39maxes.unicode_minus\u001b[39m\u001b[39m'\u001b[39m] \u001b[39m=\u001b[39m \u001b[39mFalse\u001b[39;00m\n",
      "\u001b[0;31mNameError\u001b[0m: name 'rc' is not defined"
     ]
    }
   ],
   "source": [
    "hongje = summ[summ.단지명==\"홍제한양\"]\n"
   ]
  },
  {
   "cell_type": "code",
   "execution_count": 94,
   "metadata": {},
   "outputs": [
    {
     "data": {
      "text/html": [
       "<div>\n",
       "<style scoped>\n",
       "    .dataframe tbody tr th:only-of-type {\n",
       "        vertical-align: middle;\n",
       "    }\n",
       "\n",
       "    .dataframe tbody tr th {\n",
       "        vertical-align: top;\n",
       "    }\n",
       "\n",
       "    .dataframe thead th {\n",
       "        text-align: right;\n",
       "    }\n",
       "</style>\n",
       "<table border=\"1\" class=\"dataframe\">\n",
       "  <thead>\n",
       "    <tr style=\"text-align: right;\">\n",
       "      <th></th>\n",
       "      <th>단지명</th>\n",
       "      <th>전용면적(㎡)</th>\n",
       "      <th>본번</th>\n",
       "      <th>부번</th>\n",
       "      <th>계약일</th>\n",
       "      <th>층</th>\n",
       "      <th>건축년도</th>\n",
       "      <th>해제사유발생일</th>\n",
       "      <th>거래금액</th>\n",
       "    </tr>\n",
       "    <tr>\n",
       "      <th>계약년월</th>\n",
       "      <th></th>\n",
       "      <th></th>\n",
       "      <th></th>\n",
       "      <th></th>\n",
       "      <th></th>\n",
       "      <th></th>\n",
       "      <th></th>\n",
       "      <th></th>\n",
       "      <th></th>\n",
       "    </tr>\n",
       "  </thead>\n",
       "  <tbody>\n",
       "    <tr>\n",
       "      <th>200601</th>\n",
       "      <td>홍제한양</td>\n",
       "      <td>60.06</td>\n",
       "      <td>82.0</td>\n",
       "      <td>0.0</td>\n",
       "      <td>15.750000</td>\n",
       "      <td>9.500000</td>\n",
       "      <td>1993.0</td>\n",
       "      <td>NaN</td>\n",
       "      <td>17625.000000</td>\n",
       "    </tr>\n",
       "    <tr>\n",
       "      <th>200602</th>\n",
       "      <td>홍제한양</td>\n",
       "      <td>60.06</td>\n",
       "      <td>82.0</td>\n",
       "      <td>0.0</td>\n",
       "      <td>25.500000</td>\n",
       "      <td>4.000000</td>\n",
       "      <td>1993.0</td>\n",
       "      <td>NaN</td>\n",
       "      <td>17500.000000</td>\n",
       "    </tr>\n",
       "    <tr>\n",
       "      <th>200603</th>\n",
       "      <td>홍제한양</td>\n",
       "      <td>60.06</td>\n",
       "      <td>82.0</td>\n",
       "      <td>0.0</td>\n",
       "      <td>14.714286</td>\n",
       "      <td>8.142857</td>\n",
       "      <td>1993.0</td>\n",
       "      <td>NaN</td>\n",
       "      <td>17692.857143</td>\n",
       "    </tr>\n",
       "    <tr>\n",
       "      <th>200603</th>\n",
       "      <td>홍제한양</td>\n",
       "      <td>84.77</td>\n",
       "      <td>82.0</td>\n",
       "      <td>0.0</td>\n",
       "      <td>9.000000</td>\n",
       "      <td>11.000000</td>\n",
       "      <td>1993.0</td>\n",
       "      <td>NaN</td>\n",
       "      <td>28900.000000</td>\n",
       "    </tr>\n",
       "    <tr>\n",
       "      <th>200603</th>\n",
       "      <td>홍제한양</td>\n",
       "      <td>120.14</td>\n",
       "      <td>82.0</td>\n",
       "      <td>0.0</td>\n",
       "      <td>19.000000</td>\n",
       "      <td>8.000000</td>\n",
       "      <td>1993.0</td>\n",
       "      <td>NaN</td>\n",
       "      <td>40500.000000</td>\n",
       "    </tr>\n",
       "    <tr>\n",
       "      <th>...</th>\n",
       "      <td>...</td>\n",
       "      <td>...</td>\n",
       "      <td>...</td>\n",
       "      <td>...</td>\n",
       "      <td>...</td>\n",
       "      <td>...</td>\n",
       "      <td>...</td>\n",
       "      <td>...</td>\n",
       "      <td>...</td>\n",
       "    </tr>\n",
       "    <tr>\n",
       "      <th>202109</th>\n",
       "      <td>홍제한양</td>\n",
       "      <td>60.06</td>\n",
       "      <td>82.0</td>\n",
       "      <td>0.0</td>\n",
       "      <td>4.000000</td>\n",
       "      <td>4.000000</td>\n",
       "      <td>1993.0</td>\n",
       "      <td>NaN</td>\n",
       "      <td>78500.000000</td>\n",
       "    </tr>\n",
       "    <tr>\n",
       "      <th>202110</th>\n",
       "      <td>홍제한양</td>\n",
       "      <td>84.77</td>\n",
       "      <td>82.0</td>\n",
       "      <td>0.0</td>\n",
       "      <td>22.000000</td>\n",
       "      <td>7.000000</td>\n",
       "      <td>1993.0</td>\n",
       "      <td>NaN</td>\n",
       "      <td>96000.000000</td>\n",
       "    </tr>\n",
       "    <tr>\n",
       "      <th>202111</th>\n",
       "      <td>홍제한양</td>\n",
       "      <td>60.06</td>\n",
       "      <td>82.0</td>\n",
       "      <td>0.0</td>\n",
       "      <td>23.000000</td>\n",
       "      <td>8.000000</td>\n",
       "      <td>1993.0</td>\n",
       "      <td>NaN</td>\n",
       "      <td>80500.000000</td>\n",
       "    </tr>\n",
       "    <tr>\n",
       "      <th>202202</th>\n",
       "      <td>홍제한양</td>\n",
       "      <td>84.77</td>\n",
       "      <td>82.0</td>\n",
       "      <td>0.0</td>\n",
       "      <td>19.000000</td>\n",
       "      <td>6.000000</td>\n",
       "      <td>1993.0</td>\n",
       "      <td>NaN</td>\n",
       "      <td>90500.000000</td>\n",
       "    </tr>\n",
       "    <tr>\n",
       "      <th>202203</th>\n",
       "      <td>홍제한양</td>\n",
       "      <td>60.06</td>\n",
       "      <td>82.0</td>\n",
       "      <td>0.0</td>\n",
       "      <td>5.000000</td>\n",
       "      <td>5.000000</td>\n",
       "      <td>1993.0</td>\n",
       "      <td>NaN</td>\n",
       "      <td>79600.000000</td>\n",
       "    </tr>\n",
       "  </tbody>\n",
       "</table>\n",
       "<p>378 rows × 9 columns</p>\n",
       "</div>"
      ],
      "text/plain": [
       "         단지명  전용면적(㎡)    본번   부번        계약일          층    건축년도  해제사유발생일  \\\n",
       "계약년월                                                                      \n",
       "200601  홍제한양    60.06  82.0  0.0  15.750000   9.500000  1993.0      NaN   \n",
       "200602  홍제한양    60.06  82.0  0.0  25.500000   4.000000  1993.0      NaN   \n",
       "200603  홍제한양    60.06  82.0  0.0  14.714286   8.142857  1993.0      NaN   \n",
       "200603  홍제한양    84.77  82.0  0.0   9.000000  11.000000  1993.0      NaN   \n",
       "200603  홍제한양   120.14  82.0  0.0  19.000000   8.000000  1993.0      NaN   \n",
       "...      ...      ...   ...  ...        ...        ...     ...      ...   \n",
       "202109  홍제한양    60.06  82.0  0.0   4.000000   4.000000  1993.0      NaN   \n",
       "202110  홍제한양    84.77  82.0  0.0  22.000000   7.000000  1993.0      NaN   \n",
       "202111  홍제한양    60.06  82.0  0.0  23.000000   8.000000  1993.0      NaN   \n",
       "202202  홍제한양    84.77  82.0  0.0  19.000000   6.000000  1993.0      NaN   \n",
       "202203  홍제한양    60.06  82.0  0.0   5.000000   5.000000  1993.0      NaN   \n",
       "\n",
       "                거래금액  \n",
       "계약년월                  \n",
       "200601  17625.000000  \n",
       "200602  17500.000000  \n",
       "200603  17692.857143  \n",
       "200603  28900.000000  \n",
       "200603  40500.000000  \n",
       "...              ...  \n",
       "202109  78500.000000  \n",
       "202110  96000.000000  \n",
       "202111  80500.000000  \n",
       "202202  90500.000000  \n",
       "202203  79600.000000  \n",
       "\n",
       "[378 rows x 9 columns]"
      ]
     },
     "execution_count": 94,
     "metadata": {},
     "output_type": "execute_result"
    }
   ],
   "source": [
    "hongje.set_index('계약년월')"
   ]
  },
  {
   "cell_type": "code",
   "execution_count": 115,
   "metadata": {},
   "outputs": [
    {
     "data": {
      "text/plain": [
       "전용면적(㎡)\n",
       "60.06     173\n",
       "84.77     137\n",
       "120.14     68\n",
       "dtype: int64"
      ]
     },
     "execution_count": 115,
     "metadata": {},
     "output_type": "execute_result"
    }
   ],
   "source": [
    "hongje.value_counts('전용면적(㎡)')"
   ]
  },
  {
   "cell_type": "code",
   "execution_count": 110,
   "metadata": {},
   "outputs": [
    {
     "data": {
      "text/plain": [
       "<AxesSubplot:>"
      ]
     },
     "execution_count": 110,
     "metadata": {},
     "output_type": "execute_result"
    },
    {
     "data": {
      "image/png": "[encoded data removed]",
      "text/plain": [
       "<Figure size 432x288 with 1 Axes>"
      ]
     },
     "metadata": {
      "needs_background": "light"
     },
     "output_type": "display_data"
    }
   ],
   "source": []
  },
  {
   "cell_type": "code",
   "execution_count": 112,
   "metadata": {},
   "outputs": [],
   "source": [
    "hongje=hongje.set_index('계약년월')"
   ]
  },
  {
   "cell_type": "code",
   "execution_count": 121,
   "metadata": {},
   "outputs": [
    {
     "ename": "NameError",
     "evalue": "name 'ax' is not defined",
     "output_type": "error",
     "traceback": [
      "\u001b[0;31m---------------------------------------------------------------------------\u001b[0m",
      "\u001b[0;31mNameError\u001b[0m                                 Traceback (most recent call last)",
      "\u001b[1;32m/Users/seunghoonyang/Documents/python/data_tinkering/apt_seodaemun.ipynb Cell 11'\u001b[0m in \u001b[0;36m<cell line: 1>\u001b[0;34m()\u001b[0m\n\u001b[0;32m----> <a href='vscode-notebook-cell:/Users/seunghoonyang/Documents/python/data_tinkering/apt_seodaemun.ipynb#ch0000018?line=0'>1</a>\u001b[0m ax\u001b[39m.\u001b[39mset_xticklabels(hongje[\u001b[39m'\u001b[39m\u001b[39m거래금액\u001b[39m\u001b[39m'\u001b[39m], rotation\u001b[39m=\u001b[39m\u001b[39m90\u001b[39m, ha\u001b[39m=\u001b[39m\u001b[39m'\u001b[39m\u001b[39mright\u001b[39m\u001b[39m'\u001b[39m)\n\u001b[1;32m      <a href='vscode-notebook-cell:/Users/seunghoonyang/Documents/python/data_tinkering/apt_seodaemun.ipynb#ch0000018?line=1'>2</a>\u001b[0m hongje[hongje[\u001b[39m'\u001b[39m\u001b[39m전용면적(㎡)\u001b[39m\u001b[39m'\u001b[39m] \u001b[39m==\u001b[39m \u001b[39m60.06\u001b[39m]\u001b[39m.\u001b[39m거래금액\u001b[39m.\u001b[39mplot()\n",
      "\u001b[0;31mNameError\u001b[0m: name 'ax' is not defined"
     ]
    }
   ],
   "source": [
    "ax.set_xticklabels(hongje['거래금액'], rotation=90, ha='right')\n",
    "hongje[hongje['전용면적(㎡)'] == 60.06].거래금액.plot()dd"
   ]
  },
  {
   "cell_type": "code",
   "execution_count": 118,
   "metadata": {},
   "outputs": [
    {
     "data": {
      "text/plain": [
       "<AxesSubplot:xlabel='계약년월'>"
      ]
     },
     "execution_count": 118,
     "metadata": {},
     "output_type": "execute_result"
    },
    {
     "data": {
      "image/png": "[encoded data removed]",
      "text/plain": [
       "<Figure size 432x288 with 1 Axes>"
      ]
     },
     "metadata": {
      "needs_background": "light"
     },
     "output_type": "display_data"
    }
   ],
   "source": [
    "hongje[hongje['전용면적(㎡)'] == 84.77].거래금액.plot()d"
   ]
  },
  {
   "cell_type": "code",
   "execution_count": 116,
   "metadata": {},
   "outputs": [
    {
     "data": {
      "text/plain": [
       "<AxesSubplot:xlabel='계약년월'>"
      ]
     },
     "execution_count": 116,
     "metadata": {},
     "output_type": "execute_result"
    },
    {
     "data": {
      "image/png": "[encoded data removed]",
      "text/plain": [
       "<Figure size 432x288 with 1 Axes>"
      ]
     },
     "metadata": {
      "needs_background": "light"
     },
     "output_type": "display_data"
    }
   ],
   "source": [
    "hongje[hongje['전용면적(㎡)'] == 120.14].거래금액.plot()"
   ]
  },
  {
   "cell_type": "code",
   "execution_count": 134,
   "metadata": {},
   "outputs": [],
   "source": [
    "plt.rcParams['font.family'] = 'AppleGothic'"
   ]
  },
  {
   "cell_type": "code",
   "execution_count": 142,
   "metadata": {},
   "outputs": [
    {
     "data": {
      "text/plain": [
       "(array([  0,   1,   2,   3,   4,   5,   6,   7,   8,   9,  10,  11,  12,\n",
       "         13,  14,  15,  16,  17,  18,  19,  20,  21,  22,  23,  24,  25,\n",
       "         26,  27,  28,  29,  30,  31,  32,  33,  34,  35,  36,  37,  38,\n",
       "         39,  40,  41,  42,  43,  44,  45,  46,  47,  48,  49,  50,  51,\n",
       "         52,  53,  54,  55,  56,  57,  58,  59,  60,  61,  62,  63,  64,\n",
       "         65,  66,  67,  68,  69,  70,  71,  72,  73,  74,  75,  76,  77,\n",
       "         78,  79,  80,  81,  82,  83,  84,  85,  86,  87,  88,  89,  90,\n",
       "         91,  92,  93,  94,  95,  96,  97,  98,  99, 100, 101, 102, 103,\n",
       "        104, 105, 106, 107, 108, 109, 110, 111, 112, 113, 114, 115, 116,\n",
       "        117, 118, 119, 120, 121, 122, 123, 124, 125, 126, 127, 128, 129,\n",
       "        130, 131, 132, 133, 134, 135, 136, 137, 138, 139, 140, 141, 142,\n",
       "        143, 144, 145, 146, 147, 148, 149, 150, 151, 152, 153, 154, 155,\n",
       "        156, 157, 158, 159, 160, 161, 162, 163, 164, 165, 166, 167, 168,\n",
       "        169, 170, 171, 172, 173, 174, 175, 176, 177, 178, 179, 180, 181,\n",
       "        182, 183, 184]),\n",
       " [Text(0, 0, '200601'),\n",
       "  Text(1, 0, '200602'),\n",
       "  Text(2, 0, '200603'),\n",
       "  Text(3, 0, '200604'),\n",
       "  Text(4, 0, '200605'),\n",
       "  Text(5, 0, '200606'),\n",
       "  Text(6, 0, '200607'),\n",
       "  Text(7, 0, '200608'),\n",
       "  Text(8, 0, '200609'),\n",
       "  Text(9, 0, '200610'),\n",
       "  Text(10, 0, '200611'),\n",
       "  Text(11, 0, '200612'),\n",
       "  Text(12, 0, '200701'),\n",
       "  Text(13, 0, '200702'),\n",
       "  Text(14, 0, '200703'),\n",
       "  Text(15, 0, '200704'),\n",
       "  Text(16, 0, '200705'),\n",
       "  Text(17, 0, '200706'),\n",
       "  Text(18, 0, '200707'),\n",
       "  Text(19, 0, '200708'),\n",
       "  Text(20, 0, '200709'),\n",
       "  Text(21, 0, '200710'),\n",
       "  Text(22, 0, '200711'),\n",
       "  Text(23, 0, '200712'),\n",
       "  Text(24, 0, '200801'),\n",
       "  Text(25, 0, '200802'),\n",
       "  Text(26, 0, '200803'),\n",
       "  Text(27, 0, '200804'),\n",
       "  Text(28, 0, '200805'),\n",
       "  Text(29, 0, '200806'),\n",
       "  Text(30, 0, '200807'),\n",
       "  Text(31, 0, '200808'),\n",
       "  Text(32, 0, '200810'),\n",
       "  Text(33, 0, '200811'),\n",
       "  Text(34, 0, '200902'),\n",
       "  Text(35, 0, '200903'),\n",
       "  Text(36, 0, '200904'),\n",
       "  Text(37, 0, '200905'),\n",
       "  Text(38, 0, '200906'),\n",
       "  Text(39, 0, '200907'),\n",
       "  Text(40, 0, '200908'),\n",
       "  Text(41, 0, '200909'),\n",
       "  Text(42, 0, '200910'),\n",
       "  Text(43, 0, '200911'),\n",
       "  Text(44, 0, '200912'),\n",
       "  Text(45, 0, '201001'),\n",
       "  Text(46, 0, '201002'),\n",
       "  Text(47, 0, '201003'),\n",
       "  Text(48, 0, '201004'),\n",
       "  Text(49, 0, '201005'),\n",
       "  Text(50, 0, '201006'),\n",
       "  Text(51, 0, '201007'),\n",
       "  Text(52, 0, '201008'),\n",
       "  Text(53, 0, '201009'),\n",
       "  Text(54, 0, '201011'),\n",
       "  Text(55, 0, '201012'),\n",
       "  Text(56, 0, '201101'),\n",
       "  Text(57, 0, '201102'),\n",
       "  Text(58, 0, '201103'),\n",
       "  Text(59, 0, '201104'),\n",
       "  Text(60, 0, '201105'),\n",
       "  Text(61, 0, '201106'),\n",
       "  Text(62, 0, '201107'),\n",
       "  Text(63, 0, '201108'),\n",
       "  Text(64, 0, '201109'),\n",
       "  Text(65, 0, '201110'),\n",
       "  Text(66, 0, '201111'),\n",
       "  Text(67, 0, '201112'),\n",
       "  Text(68, 0, '201201'),\n",
       "  Text(69, 0, '201202'),\n",
       "  Text(70, 0, '201203'),\n",
       "  Text(71, 0, '201204'),\n",
       "  Text(72, 0, '201205'),\n",
       "  Text(73, 0, '201206'),\n",
       "  Text(74, 0, '201208'),\n",
       "  Text(75, 0, '201209'),\n",
       "  Text(76, 0, '201210'),\n",
       "  Text(77, 0, '201211'),\n",
       "  Text(78, 0, '201212'),\n",
       "  Text(79, 0, '201301'),\n",
       "  Text(80, 0, '201302'),\n",
       "  Text(81, 0, '201303'),\n",
       "  Text(82, 0, '201304'),\n",
       "  Text(83, 0, '201305'),\n",
       "  Text(84, 0, '201306'),\n",
       "  Text(85, 0, '201307'),\n",
       "  Text(86, 0, '201308'),\n",
       "  Text(87, 0, '201309'),\n",
       "  Text(88, 0, '201310'),\n",
       "  Text(89, 0, '201311'),\n",
       "  Text(90, 0, '201312'),\n",
       "  Text(91, 0, '201401'),\n",
       "  Text(92, 0, '201402'),\n",
       "  Text(93, 0, '201403'),\n",
       "  Text(94, 0, '201404'),\n",
       "  Text(95, 0, '201406'),\n",
       "  Text(96, 0, '201407'),\n",
       "  Text(97, 0, '201408'),\n",
       "  Text(98, 0, '201409'),\n",
       "  Text(99, 0, '201410'),\n",
       "  Text(100, 0, '201411'),\n",
       "  Text(101, 0, '201412'),\n",
       "  Text(102, 0, '201501'),\n",
       "  Text(103, 0, '201502'),\n",
       "  Text(104, 0, '201503'),\n",
       "  Text(105, 0, '201504'),\n",
       "  Text(106, 0, '201505'),\n",
       "  Text(107, 0, '201506'),\n",
       "  Text(108, 0, '201507'),\n",
       "  Text(109, 0, '201508'),\n",
       "  Text(110, 0, '201509'),\n",
       "  Text(111, 0, '201510'),\n",
       "  Text(112, 0, '201511'),\n",
       "  Text(113, 0, '201512'),\n",
       "  Text(114, 0, '201601'),\n",
       "  Text(115, 0, '201602'),\n",
       "  Text(116, 0, '201603'),\n",
       "  Text(117, 0, '201604'),\n",
       "  Text(118, 0, '201605'),\n",
       "  Text(119, 0, '201606'),\n",
       "  Text(120, 0, '201607'),\n",
       "  Text(121, 0, '201608'),\n",
       "  Text(122, 0, '201609'),\n",
       "  Text(123, 0, '201610'),\n",
       "  Text(124, 0, '201611'),\n",
       "  Text(125, 0, '201612'),\n",
       "  Text(126, 0, '201701'),\n",
       "  Text(127, 0, '201702'),\n",
       "  Text(128, 0, '201703'),\n",
       "  Text(129, 0, '201704'),\n",
       "  Text(130, 0, '201705'),\n",
       "  Text(131, 0, '201706'),\n",
       "  Text(132, 0, '201707'),\n",
       "  Text(133, 0, '201708'),\n",
       "  Text(134, 0, '201709'),\n",
       "  Text(135, 0, '201710'),\n",
       "  Text(136, 0, '201711'),\n",
       "  Text(137, 0, '201712'),\n",
       "  Text(138, 0, '201801'),\n",
       "  Text(139, 0, '201802'),\n",
       "  Text(140, 0, '201803'),\n",
       "  Text(141, 0, '201804'),\n",
       "  Text(142, 0, '201805'),\n",
       "  Text(143, 0, '201806'),\n",
       "  Text(144, 0, '201807'),\n",
       "  Text(145, 0, '201808'),\n",
       "  Text(146, 0, '201809'),\n",
       "  Text(147, 0, '201810'),\n",
       "  Text(148, 0, '201811'),\n",
       "  Text(149, 0, '201812'),\n",
       "  Text(150, 0, '201901'),\n",
       "  Text(151, 0, '201904'),\n",
       "  Text(152, 0, '201905'),\n",
       "  Text(153, 0, '201906'),\n",
       "  Text(154, 0, '201907'),\n",
       "  Text(155, 0, '201908'),\n",
       "  Text(156, 0, '201909'),\n",
       "  Text(157, 0, '201910'),\n",
       "  Text(158, 0, '201911'),\n",
       "  Text(159, 0, '201912'),\n",
       "  Text(160, 0, '202001'),\n",
       "  Text(161, 0, '202002'),\n",
       "  Text(162, 0, '202003'),\n",
       "  Text(163, 0, '202004'),\n",
       "  Text(164, 0, '202005'),\n",
       "  Text(165, 0, '202006'),\n",
       "  Text(166, 0, '202007'),\n",
       "  Text(167, 0, '202008'),\n",
       "  Text(168, 0, '202009'),\n",
       "  Text(169, 0, '202010'),\n",
       "  Text(170, 0, '202011'),\n",
       "  Text(171, 0, '202012'),\n",
       "  Text(172, 0, '202101'),\n",
       "  Text(173, 0, '202102'),\n",
       "  Text(174, 0, '202103'),\n",
       "  Text(175, 0, '202104'),\n",
       "  Text(176, 0, '202105'),\n",
       "  Text(177, 0, '202106'),\n",
       "  Text(178, 0, '202107'),\n",
       "  Text(179, 0, '202108'),\n",
       "  Text(180, 0, '202109'),\n",
       "  Text(181, 0, '202110'),\n",
       "  Text(182, 0, '202111'),\n",
       "  Text(183, 0, '202202'),\n",
       "  Text(184, 0, '202203')])"
      ]
     },
     "execution_count": 142,
     "metadata": {},
     "output_type": "execute_result"
    },
    {
     "data": {
      "image/png": "[encoded data removed]",
      "text/plain": [
       "<Figure size 1440x1080 with 1 Axes>"
      ]
     },
     "metadata": {},
     "output_type": "display_data"
    }
   ],
   "source": [
    "plt.figure(figsize = (20, 15))\n",
    "ax=sns.boxplot(x = \"계약년월\", y = \"거래금액\",\n",
    "            hue='전용면적(㎡)', data = hongje)\n",
    "plt.xticks(rotation=45)"
   ]
  },
  {
   "cell_type": "code",
   "execution_count": 144,
   "metadata": {},
   "outputs": [],
   "source": [
    "pd.DataFrame.to_excel(apt, \"apttotal.xlsx\")"
   ]
  }
 ],
 "metadata": {
  "interpreter": {
   "hash": "5f2dc2c05f9d09bbf8d8b9882d1010be2db21d3925608a6143bf35df14041d06"
  },
  "kernelspec": {
   "display_name": "Python 3.8.8 ('base')",
   "language": "python",
   "name": "python3"
  },
  "language_info": {
   "codemirror_mode": {
    "name": "ipython",
    "version": 3
   },
   "file_extension": ".py",
   "mimetype": "text/x-python",
   "name": "python",
   "nbconvert_exporter": "python",
   "pygments_lexer": "ipython3",
   "version": "3.8.8"
  },
  "orig_nbformat": 4
 },
 "nbformat": 4,
 "nbformat_minor": 2
}
